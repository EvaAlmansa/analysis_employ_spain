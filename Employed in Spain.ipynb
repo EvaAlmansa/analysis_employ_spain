{
 "cells": [
  {
   "cell_type": "markdown",
   "metadata": {},
   "source": [
    "# Objective: Found a model to predict unemployment in Spain "
   ]
  },
  {
   "cell_type": "markdown",
   "metadata": {},
   "source": [
    "## 1 Obtaining data: Employed index in Spain\n",
    "[source](https://datos.gob.es/catalogo/ea0010587-tasas-de-actividad-paro-y-empleo-por-provincia-y-sexo-trimestral-provincias-encuesta-de-poblacion-activa-epa-identificador-api-3996)"
   ]
  },
  {
   "cell_type": "code",
   "execution_count": 2,
   "metadata": {},
   "outputs": [],
   "source": [
    "import matplotlib.pyplot as plt\n",
    "import os \n",
    "import pandas as pd\n",
    "import numpy as np"
   ]
  },
  {
   "cell_type": "code",
   "execution_count": 3,
   "metadata": {},
   "outputs": [],
   "source": [
    "import geopandas as gpd"
   ]
  },
  {
   "cell_type": "markdown",
   "metadata": {},
   "source": [
    "### Cleaning data"
   ]
  },
  {
   "cell_type": "code",
   "execution_count": 4,
   "metadata": {},
   "outputs": [],
   "source": [
    "dirpath = os.getcwd()\n",
    "employed = os.path.join(dirpath, 'data', 'employed.csv')\n",
    "employed = pd.read_csv(employed, sep=',')"
   ]
  },
  {
   "cell_type": "code",
   "execution_count": 5,
   "metadata": {},
   "outputs": [],
   "source": [
    "selected_years = ['Unnamed: 0']\n",
    "for name in employed.columns:\n",
    "    if 'T' in name and '.' not in name:\n",
    "        selected_years.append(name)\n",
    "    elif '.' in name:\n",
    "        break"
   ]
  },
  {
   "cell_type": "code",
   "execution_count": 6,
   "metadata": {},
   "outputs": [],
   "source": [
    "employed = employed[selected_years]"
   ]
  },
  {
   "cell_type": "code",
   "execution_count": 7,
   "metadata": {},
   "outputs": [],
   "source": [
    "selected_years[0] = 'Location'\n",
    "employed.columns = selected_years\n",
    "employed = employed.set_index('Location')"
   ]
  },
  {
   "cell_type": "code",
   "execution_count": 8,
   "metadata": {},
   "outputs": [],
   "source": [
    "selected_years.pop(0)\n",
    "selected_years.sort()\n",
    "employed = employed[selected_years]"
   ]
  },
  {
   "cell_type": "code",
   "execution_count": 9,
   "metadata": {},
   "outputs": [
    {
     "data": {
      "text/html": [
       "<div>\n",
       "<style scoped>\n",
       "    .dataframe tbody tr th:only-of-type {\n",
       "        vertical-align: middle;\n",
       "    }\n",
       "\n",
       "    .dataframe tbody tr th {\n",
       "        vertical-align: top;\n",
       "    }\n",
       "\n",
       "    .dataframe thead th {\n",
       "        text-align: right;\n",
       "    }\n",
       "</style>\n",
       "<table border=\"1\" class=\"dataframe\">\n",
       "  <thead>\n",
       "    <tr style=\"text-align: right;\">\n",
       "      <th></th>\n",
       "      <th>2002T1</th>\n",
       "      <th>2002T2</th>\n",
       "      <th>2002T3</th>\n",
       "      <th>2002T4</th>\n",
       "      <th>2003T1</th>\n",
       "      <th>2003T2</th>\n",
       "      <th>2003T3</th>\n",
       "      <th>2003T4</th>\n",
       "      <th>2004T1</th>\n",
       "      <th>2004T2</th>\n",
       "      <th>...</th>\n",
       "      <th>2017T3</th>\n",
       "      <th>2017T4</th>\n",
       "      <th>2018T1</th>\n",
       "      <th>2018T2</th>\n",
       "      <th>2018T3</th>\n",
       "      <th>2018T4</th>\n",
       "      <th>2019T1</th>\n",
       "      <th>2019T2</th>\n",
       "      <th>2019T3</th>\n",
       "      <th>2019T4</th>\n",
       "    </tr>\n",
       "    <tr>\n",
       "      <th>Location</th>\n",
       "      <th></th>\n",
       "      <th></th>\n",
       "      <th></th>\n",
       "      <th></th>\n",
       "      <th></th>\n",
       "      <th></th>\n",
       "      <th></th>\n",
       "      <th></th>\n",
       "      <th></th>\n",
       "      <th></th>\n",
       "      <th></th>\n",
       "      <th></th>\n",
       "      <th></th>\n",
       "      <th></th>\n",
       "      <th></th>\n",
       "      <th></th>\n",
       "      <th></th>\n",
       "      <th></th>\n",
       "      <th></th>\n",
       "      <th></th>\n",
       "      <th></th>\n",
       "    </tr>\n",
       "  </thead>\n",
       "  <tbody>\n",
       "    <tr>\n",
       "      <th>Total Nacional</th>\n",
       "      <td>60</td>\n",
       "      <td>16</td>\n",
       "      <td>60</td>\n",
       "      <td>44</td>\n",
       "      <td>60</td>\n",
       "      <td>44</td>\n",
       "      <td>60</td>\n",
       "      <td>29</td>\n",
       "      <td>60</td>\n",
       "      <td>31</td>\n",
       "      <td>...</td>\n",
       "      <td>61</td>\n",
       "      <td>58</td>\n",
       "      <td>35</td>\n",
       "      <td>58</td>\n",
       "      <td>74</td>\n",
       "      <td>58</td>\n",
       "      <td>72</td>\n",
       "      <td>58</td>\n",
       "      <td>74</td>\n",
       "      <td>58</td>\n",
       "    </tr>\n",
       "    <tr>\n",
       "      <th>02 Albacete</th>\n",
       "      <td>58</td>\n",
       "      <td>58</td>\n",
       "      <td>11</td>\n",
       "      <td>60</td>\n",
       "      <td>92</td>\n",
       "      <td>59</td>\n",
       "      <td>83</td>\n",
       "      <td>58</td>\n",
       "      <td>32</td>\n",
       "      <td>58</td>\n",
       "      <td>...</td>\n",
       "      <td>13</td>\n",
       "      <td>59</td>\n",
       "      <td>38</td>\n",
       "      <td>57</td>\n",
       "      <td>95</td>\n",
       "      <td>55</td>\n",
       "      <td>5</td>\n",
       "      <td>56</td>\n",
       "      <td>54</td>\n",
       "      <td>55</td>\n",
       "    </tr>\n",
       "    <tr>\n",
       "      <th>03 Alicante/Alacant</th>\n",
       "      <td>66</td>\n",
       "      <td>56</td>\n",
       "      <td>67</td>\n",
       "      <td>57</td>\n",
       "      <td>69</td>\n",
       "      <td>57</td>\n",
       "      <td>77</td>\n",
       "      <td>58</td>\n",
       "      <td>42</td>\n",
       "      <td>58</td>\n",
       "      <td>...</td>\n",
       "      <td>73</td>\n",
       "      <td>56</td>\n",
       "      <td>14</td>\n",
       "      <td>56</td>\n",
       "      <td>61</td>\n",
       "      <td>58</td>\n",
       "      <td>55</td>\n",
       "      <td>58</td>\n",
       "      <td>24</td>\n",
       "      <td>59</td>\n",
       "    </tr>\n",
       "    <tr>\n",
       "      <th>04 Almería</th>\n",
       "      <td>64</td>\n",
       "      <td>43</td>\n",
       "      <td>65</td>\n",
       "      <td>79</td>\n",
       "      <td>63</td>\n",
       "      <td>64</td>\n",
       "      <td>64</td>\n",
       "      <td>16</td>\n",
       "      <td>64</td>\n",
       "      <td>69</td>\n",
       "      <td>...</td>\n",
       "      <td>33</td>\n",
       "      <td>59</td>\n",
       "      <td>33</td>\n",
       "      <td>59</td>\n",
       "      <td>55</td>\n",
       "      <td>58</td>\n",
       "      <td>81</td>\n",
       "      <td>57</td>\n",
       "      <td>72</td>\n",
       "      <td>60</td>\n",
       "    </tr>\n",
       "    <tr>\n",
       "      <th>01 Araba/Álava</th>\n",
       "      <td>1</td>\n",
       "      <td>62</td>\n",
       "      <td>21</td>\n",
       "      <td>61</td>\n",
       "      <td>59</td>\n",
       "      <td>61</td>\n",
       "      <td>12</td>\n",
       "      <td>62</td>\n",
       "      <td>47</td>\n",
       "      <td>60</td>\n",
       "      <td>...</td>\n",
       "      <td>13</td>\n",
       "      <td>58</td>\n",
       "      <td>38</td>\n",
       "      <td>59</td>\n",
       "      <td>35</td>\n",
       "      <td>58</td>\n",
       "      <td>22</td>\n",
       "      <td>57</td>\n",
       "      <td>4</td>\n",
       "      <td>56</td>\n",
       "    </tr>\n",
       "  </tbody>\n",
       "</table>\n",
       "<p>5 rows × 72 columns</p>\n",
       "</div>"
      ],
      "text/plain": [
       "                         2002T1  2002T2  2002T3  2002T4  2003T1  2003T2  \\\n",
       "Location                                                                  \n",
       "    Total Nacional           60      16      60      44      60      44   \n",
       "    02 Albacete              58      58      11      60      92      59   \n",
       "    03 Alicante/Alacant      66      56      67      57      69      57   \n",
       "    04 Almería               64      43      65      79      63      64   \n",
       "    01 Araba/Álava            1      62      21      61      59      61   \n",
       "\n",
       "                         2003T3  2003T4  2004T1  2004T2  ...  2017T3  2017T4  \\\n",
       "Location                                                 ...                   \n",
       "    Total Nacional           60      29      60      31  ...      61      58   \n",
       "    02 Albacete              83      58      32      58  ...      13      59   \n",
       "    03 Alicante/Alacant      77      58      42      58  ...      73      56   \n",
       "    04 Almería               64      16      64      69  ...      33      59   \n",
       "    01 Araba/Álava           12      62      47      60  ...      13      58   \n",
       "\n",
       "                         2018T1  2018T2  2018T3  2018T4  2019T1  2019T2  \\\n",
       "Location                                                                  \n",
       "    Total Nacional           35      58      74      58      72      58   \n",
       "    02 Albacete              38      57      95      55       5      56   \n",
       "    03 Alicante/Alacant      14      56      61      58      55      58   \n",
       "    04 Almería               33      59      55      58      81      57   \n",
       "    01 Araba/Álava           38      59      35      58      22      57   \n",
       "\n",
       "                         2019T3  2019T4  \n",
       "Location                                 \n",
       "    Total Nacional           74      58  \n",
       "    02 Albacete              54      55  \n",
       "    03 Alicante/Alacant      24      59  \n",
       "    04 Almería               72      60  \n",
       "    01 Araba/Álava            4      56  \n",
       "\n",
       "[5 rows x 72 columns]"
      ]
     },
     "execution_count": 9,
     "metadata": {},
     "output_type": "execute_result"
    }
   ],
   "source": [
    "employed.head()"
   ]
  },
  {
   "cell_type": "markdown",
   "metadata": {},
   "source": [
    "### Comparing Total Active People, Active Men and Active Women"
   ]
  },
  {
   "cell_type": "code",
   "execution_count": 10,
   "metadata": {},
   "outputs": [],
   "source": [
    "both_sex_employed = employed[0:53]\n",
    "men_employed = employed[53:53*2]\n",
    "women_employed = employed[53*2:53*3]"
   ]
  },
  {
   "cell_type": "code",
   "execution_count": 11,
   "metadata": {},
   "outputs": [
    {
     "data": {
      "text/html": [
       "<div>\n",
       "<style scoped>\n",
       "    .dataframe tbody tr th:only-of-type {\n",
       "        vertical-align: middle;\n",
       "    }\n",
       "\n",
       "    .dataframe tbody tr th {\n",
       "        vertical-align: top;\n",
       "    }\n",
       "\n",
       "    .dataframe thead th {\n",
       "        text-align: right;\n",
       "    }\n",
       "</style>\n",
       "<table border=\"1\" class=\"dataframe\">\n",
       "  <thead>\n",
       "    <tr style=\"text-align: right;\">\n",
       "      <th></th>\n",
       "      <th>2002T1</th>\n",
       "      <th>2002T2</th>\n",
       "      <th>2002T3</th>\n",
       "      <th>2002T4</th>\n",
       "      <th>2003T1</th>\n",
       "      <th>2003T2</th>\n",
       "      <th>2003T3</th>\n",
       "      <th>2003T4</th>\n",
       "      <th>2004T1</th>\n",
       "      <th>2004T2</th>\n",
       "      <th>...</th>\n",
       "      <th>2017T3</th>\n",
       "      <th>2017T4</th>\n",
       "      <th>2018T1</th>\n",
       "      <th>2018T2</th>\n",
       "      <th>2018T3</th>\n",
       "      <th>2018T4</th>\n",
       "      <th>2019T1</th>\n",
       "      <th>2019T2</th>\n",
       "      <th>2019T3</th>\n",
       "      <th>2019T4</th>\n",
       "    </tr>\n",
       "    <tr>\n",
       "      <th>Location</th>\n",
       "      <th></th>\n",
       "      <th></th>\n",
       "      <th></th>\n",
       "      <th></th>\n",
       "      <th></th>\n",
       "      <th></th>\n",
       "      <th></th>\n",
       "      <th></th>\n",
       "      <th></th>\n",
       "      <th></th>\n",
       "      <th></th>\n",
       "      <th></th>\n",
       "      <th></th>\n",
       "      <th></th>\n",
       "      <th></th>\n",
       "      <th></th>\n",
       "      <th></th>\n",
       "      <th></th>\n",
       "      <th></th>\n",
       "      <th></th>\n",
       "      <th></th>\n",
       "    </tr>\n",
       "  </thead>\n",
       "  <tbody>\n",
       "    <tr>\n",
       "      <th>Total Nacional</th>\n",
       "      <td>60</td>\n",
       "      <td>16</td>\n",
       "      <td>60</td>\n",
       "      <td>44</td>\n",
       "      <td>60</td>\n",
       "      <td>44</td>\n",
       "      <td>60</td>\n",
       "      <td>29</td>\n",
       "      <td>60</td>\n",
       "      <td>31</td>\n",
       "      <td>...</td>\n",
       "      <td>61</td>\n",
       "      <td>58</td>\n",
       "      <td>35</td>\n",
       "      <td>58</td>\n",
       "      <td>74</td>\n",
       "      <td>58</td>\n",
       "      <td>72</td>\n",
       "      <td>58</td>\n",
       "      <td>74</td>\n",
       "      <td>58</td>\n",
       "    </tr>\n",
       "    <tr>\n",
       "      <th>02 Albacete</th>\n",
       "      <td>58</td>\n",
       "      <td>58</td>\n",
       "      <td>11</td>\n",
       "      <td>60</td>\n",
       "      <td>92</td>\n",
       "      <td>59</td>\n",
       "      <td>83</td>\n",
       "      <td>58</td>\n",
       "      <td>32</td>\n",
       "      <td>58</td>\n",
       "      <td>...</td>\n",
       "      <td>13</td>\n",
       "      <td>59</td>\n",
       "      <td>38</td>\n",
       "      <td>57</td>\n",
       "      <td>95</td>\n",
       "      <td>55</td>\n",
       "      <td>5</td>\n",
       "      <td>56</td>\n",
       "      <td>54</td>\n",
       "      <td>55</td>\n",
       "    </tr>\n",
       "    <tr>\n",
       "      <th>03 Alicante/Alacant</th>\n",
       "      <td>66</td>\n",
       "      <td>56</td>\n",
       "      <td>67</td>\n",
       "      <td>57</td>\n",
       "      <td>69</td>\n",
       "      <td>57</td>\n",
       "      <td>77</td>\n",
       "      <td>58</td>\n",
       "      <td>42</td>\n",
       "      <td>58</td>\n",
       "      <td>...</td>\n",
       "      <td>73</td>\n",
       "      <td>56</td>\n",
       "      <td>14</td>\n",
       "      <td>56</td>\n",
       "      <td>61</td>\n",
       "      <td>58</td>\n",
       "      <td>55</td>\n",
       "      <td>58</td>\n",
       "      <td>24</td>\n",
       "      <td>59</td>\n",
       "    </tr>\n",
       "    <tr>\n",
       "      <th>04 Almería</th>\n",
       "      <td>64</td>\n",
       "      <td>43</td>\n",
       "      <td>65</td>\n",
       "      <td>79</td>\n",
       "      <td>63</td>\n",
       "      <td>64</td>\n",
       "      <td>64</td>\n",
       "      <td>16</td>\n",
       "      <td>64</td>\n",
       "      <td>69</td>\n",
       "      <td>...</td>\n",
       "      <td>33</td>\n",
       "      <td>59</td>\n",
       "      <td>33</td>\n",
       "      <td>59</td>\n",
       "      <td>55</td>\n",
       "      <td>58</td>\n",
       "      <td>81</td>\n",
       "      <td>57</td>\n",
       "      <td>72</td>\n",
       "      <td>60</td>\n",
       "    </tr>\n",
       "    <tr>\n",
       "      <th>01 Araba/Álava</th>\n",
       "      <td>1</td>\n",
       "      <td>62</td>\n",
       "      <td>21</td>\n",
       "      <td>61</td>\n",
       "      <td>59</td>\n",
       "      <td>61</td>\n",
       "      <td>12</td>\n",
       "      <td>62</td>\n",
       "      <td>47</td>\n",
       "      <td>60</td>\n",
       "      <td>...</td>\n",
       "      <td>13</td>\n",
       "      <td>58</td>\n",
       "      <td>38</td>\n",
       "      <td>59</td>\n",
       "      <td>35</td>\n",
       "      <td>58</td>\n",
       "      <td>22</td>\n",
       "      <td>57</td>\n",
       "      <td>4</td>\n",
       "      <td>56</td>\n",
       "    </tr>\n",
       "  </tbody>\n",
       "</table>\n",
       "<p>5 rows × 72 columns</p>\n",
       "</div>"
      ],
      "text/plain": [
       "                         2002T1  2002T2  2002T3  2002T4  2003T1  2003T2  \\\n",
       "Location                                                                  \n",
       "    Total Nacional           60      16      60      44      60      44   \n",
       "    02 Albacete              58      58      11      60      92      59   \n",
       "    03 Alicante/Alacant      66      56      67      57      69      57   \n",
       "    04 Almería               64      43      65      79      63      64   \n",
       "    01 Araba/Álava            1      62      21      61      59      61   \n",
       "\n",
       "                         2003T3  2003T4  2004T1  2004T2  ...  2017T3  2017T4  \\\n",
       "Location                                                 ...                   \n",
       "    Total Nacional           60      29      60      31  ...      61      58   \n",
       "    02 Albacete              83      58      32      58  ...      13      59   \n",
       "    03 Alicante/Alacant      77      58      42      58  ...      73      56   \n",
       "    04 Almería               64      16      64      69  ...      33      59   \n",
       "    01 Araba/Álava           12      62      47      60  ...      13      58   \n",
       "\n",
       "                         2018T1  2018T2  2018T3  2018T4  2019T1  2019T2  \\\n",
       "Location                                                                  \n",
       "    Total Nacional           35      58      74      58      72      58   \n",
       "    02 Albacete              38      57      95      55       5      56   \n",
       "    03 Alicante/Alacant      14      56      61      58      55      58   \n",
       "    04 Almería               33      59      55      58      81      57   \n",
       "    01 Araba/Álava           38      59      35      58      22      57   \n",
       "\n",
       "                         2019T3  2019T4  \n",
       "Location                                 \n",
       "    Total Nacional           74      58  \n",
       "    02 Albacete              54      55  \n",
       "    03 Alicante/Alacant      24      59  \n",
       "    04 Almería               72      60  \n",
       "    01 Araba/Álava            4      56  \n",
       "\n",
       "[5 rows x 72 columns]"
      ]
     },
     "execution_count": 11,
     "metadata": {},
     "output_type": "execute_result"
    }
   ],
   "source": [
    "both_sex_employed.head()"
   ]
  },
  {
   "cell_type": "code",
   "execution_count": 12,
   "metadata": {},
   "outputs": [],
   "source": [
    "def data_per_year(data, column, times=['T1', 'T2', 'T3', 'T4']):\n",
    "    years = list(range(2002, 2020)) \n",
    "    data_per_year = []\n",
    "\n",
    "    for index, value in data[column].items():\n",
    "        if 'T1' in index:\n",
    "            active_people = int(value)\n",
    "        else:\n",
    "            active_people += int(value)\n",
    "        if 'T4' in index:\n",
    "            data_per_year.append(active_people/float(len(times)))\n",
    "    return pd.Series(data_per_year, index=years)"
   ]
  },
  {
   "cell_type": "code",
   "execution_count": 13,
   "metadata": {},
   "outputs": [],
   "source": [
    "both_sex_employed = both_sex_employed.T\n",
    "total_national = data_per_year(both_sex_employed, both_sex_employed.columns[0])"
   ]
  },
  {
   "cell_type": "code",
   "execution_count": 14,
   "metadata": {},
   "outputs": [
    {
     "data": {
      "text/plain": [
       "<matplotlib.axes._subplots.AxesSubplot at 0x7fca2a131240>"
      ]
     },
     "execution_count": 14,
     "metadata": {},
     "output_type": "execute_result"
    },
    {
     "data": {
      "image/png": "[encoded data removed]",
      "text/plain": [
       "<Figure size 432x288 with 1 Axes>"
      ]
     },
     "metadata": {},
     "output_type": "display_data"
    }
   ],
   "source": [
    "total_national.plot.bar(title='Total Active People in Spain')"
   ]
  },
  {
   "cell_type": "code",
   "execution_count": 15,
   "metadata": {},
   "outputs": [],
   "source": [
    "men_employed = men_employed.T\n",
    "active_men = data_per_year(men_employed, men_employed.columns[0])"
   ]
  },
  {
   "cell_type": "code",
   "execution_count": 16,
   "metadata": {},
   "outputs": [],
   "source": [
    "women_employed = women_employed.T\n",
    "active_women = data_per_year(women_employed, women_employed.columns[0])"
   ]
  },
  {
   "cell_type": "code",
   "execution_count": 17,
   "metadata": {},
   "outputs": [
    {
     "data": {
      "text/plain": [
       "<matplotlib.axes._subplots.AxesSubplot at 0x7fca2a03e898>"
      ]
     },
     "execution_count": 17,
     "metadata": {},
     "output_type": "execute_result"
    },
    {
     "data": {
      "image/png": "[encoded data removed]",
      "text/plain": [
       "<Figure size 432x288 with 1 Axes>"
      ]
     },
     "metadata": {},
     "output_type": "display_data"
    }
   ],
   "source": [
    "index = active_men.index\n",
    "compare_women_men = pd.DataFrame({'men': active_men.values, 'women': active_women.values}, index=index)\n",
    "compare_women_men.plot.bar(title='Comparing men and women')"
   ]
  },
  {
   "cell_type": "code",
   "execution_count": 18,
   "metadata": {},
   "outputs": [
    {
     "data": {
      "text/plain": [
       "<matplotlib.axes._subplots.AxesSubplot at 0x7fca29aea128>"
      ]
     },
     "execution_count": 18,
     "metadata": {},
     "output_type": "execute_result"
    },
    {
     "data": {
      "image/png": "[encoded data removed]",
      "text/plain": [
       "<Figure size 432x288 with 1 Axes>"
      ]
     },
     "metadata": {},
     "output_type": "display_data"
    }
   ],
   "source": [
    "summary_employed = pd.DataFrame({'men': active_men.values, 'women': active_women.values,\n",
    "             'total spain': total_national}, index=index)\n",
    "summary_employed.boxplot()"
   ]
  },
  {
   "cell_type": "markdown",
   "metadata": {},
   "source": [
    "Although in the graph it seems that some years women have been employed more than men, in this boxplot you can see how, on average, between 2002 and 2019, the number of employed men is greater than employed women."
   ]
  },
  {
   "cell_type": "code",
   "execution_count": 19,
   "metadata": {},
   "outputs": [
    {
     "data": {
      "text/plain": [
       "<matplotlib.axes._subplots.AxesSubplot at 0x7fca29a7a470>"
      ]
     },
     "execution_count": 19,
     "metadata": {},
     "output_type": "execute_result"
    },
    {
     "data": {
      "image/png": "[encoded data removed]",
      "text/plain": [
       "<Figure size 432x288 with 1 Axes>"
      ]
     },
     "metadata": {},
     "output_type": "display_data"
    }
   ],
   "source": [
    "summary_employed.tail().boxplot()"
   ]
  },
  {
   "cell_type": "markdown",
   "metadata": {},
   "source": [
    "In the last 5 years, the difference is even greater. The number of employed men is greater than that of women."
   ]
  },
  {
   "cell_type": "markdown",
   "metadata": {},
   "source": [
    "### Comparing quarters per year"
   ]
  },
  {
   "cell_type": "code",
   "execution_count": 20,
   "metadata": {},
   "outputs": [],
   "source": [
    "def data_per_year_and_quarterly(data, column, time='T4'):\n",
    "    years = list(range(2002, 2020)) \n",
    "    data_per_year = []\n",
    "    for index, value in data[column].items():\n",
    "        if time in index:\n",
    "            data_per_year.append(value)\n",
    "    return pd.Series(data_per_year, index=years)"
   ]
  },
  {
   "cell_type": "code",
   "execution_count": 21,
   "metadata": {},
   "outputs": [],
   "source": [
    "quartely = {}\n",
    "index = ['T1', 'T2', 'T3', 'T4']\n",
    "for time in index:\n",
    "    quartely[time] = data_per_year_and_quarterly(both_sex_employed, both_sex_employed.columns[0], time)"
   ]
  },
  {
   "cell_type": "code",
   "execution_count": 22,
   "metadata": {},
   "outputs": [
    {
     "data": {
      "text/plain": [
       "<matplotlib.axes._subplots.AxesSubplot at 0x7fca299a55f8>"
      ]
     },
     "execution_count": 22,
     "metadata": {},
     "output_type": "execute_result"
    },
    {
     "data": {
      "image/png": "[encoded data removed]",
      "text/plain": [
       "<Figure size 432x288 with 1 Axes>"
      ]
     },
     "metadata": {},
     "output_type": "display_data"
    }
   ],
   "source": [
    "quartely = pd.DataFrame(quartely, columns=index)\n",
    "quartely.plot.bar(title='Total Active People in Spain')"
   ]
  },
  {
   "cell_type": "code",
   "execution_count": 23,
   "metadata": {},
   "outputs": [
    {
     "data": {
      "text/plain": [
       "<matplotlib.axes._subplots.AxesSubplot at 0x7fca29872780>"
      ]
     },
     "execution_count": 23,
     "metadata": {},
     "output_type": "execute_result"
    },
    {
     "data": {
      "image/png": "[encoded data removed]",
      "text/plain": [
       "<Figure size 432x288 with 1 Axes>"
      ]
     },
     "metadata": {},
     "output_type": "display_data"
    }
   ],
   "source": [
    "quartely.boxplot()"
   ]
  },
  {
   "cell_type": "markdown",
   "metadata": {},
   "source": [
    "According to the results obtained, more people are employed in summer (T3) than in winter (T1). However, in both spring (T2) and autumn (T4) the average is maintained throughout the years with some year that falls outside that average (the points outside the box)."
   ]
  },
  {
   "cell_type": "markdown",
   "metadata": {},
   "source": [
    "# Questions: \n",
    "## Why do these changes occur per year? What happens by provinces?"
   ]
  },
  {
   "cell_type": "code",
   "execution_count": 24,
   "metadata": {},
   "outputs": [],
   "source": [
    "\n",
    "data = {}\n",
    "for i in range(1, len(both_sex_employed.columns)):\n",
    "    city = both_sex_employed.columns[i]\n",
    "    values = data_per_year(both_sex_employed, city)\n",
    "    data[city] = values"
   ]
  },
  {
   "cell_type": "code",
   "execution_count": 25,
   "metadata": {},
   "outputs": [],
   "source": [
    "data = pd.DataFrame(data)"
   ]
  },
  {
   "cell_type": "code",
   "execution_count": 26,
   "metadata": {},
   "outputs": [
    {
     "data": {
      "text/html": [
       "<div>\n",
       "<style scoped>\n",
       "    .dataframe tbody tr th:only-of-type {\n",
       "        vertical-align: middle;\n",
       "    }\n",
       "\n",
       "    .dataframe tbody tr th {\n",
       "        vertical-align: top;\n",
       "    }\n",
       "\n",
       "    .dataframe thead th {\n",
       "        text-align: right;\n",
       "    }\n",
       "</style>\n",
       "<table border=\"1\" class=\"dataframe\">\n",
       "  <thead>\n",
       "    <tr style=\"text-align: right;\">\n",
       "      <th></th>\n",
       "      <th>02 Albacete</th>\n",
       "      <th>03 Alicante/Alacant</th>\n",
       "      <th>04 Almería</th>\n",
       "      <th>01 Araba/Álava</th>\n",
       "      <th>33 Asturias</th>\n",
       "      <th>05 Ávila</th>\n",
       "      <th>06 Badajoz</th>\n",
       "      <th>07 Balears Illes</th>\n",
       "      <th>08 Barcelona</th>\n",
       "      <th>48 Bizkaia</th>\n",
       "      <th>...</th>\n",
       "      <th>42 Soria</th>\n",
       "      <th>43 Tarragona</th>\n",
       "      <th>44 Teruel</th>\n",
       "      <th>45 Toledo</th>\n",
       "      <th>46 Valencia/València</th>\n",
       "      <th>47 Valladolid</th>\n",
       "      <th>49 Zamora</th>\n",
       "      <th>50 Zaragoza</th>\n",
       "      <th>51 Ceuta</th>\n",
       "      <th>52 Melilla</th>\n",
       "    </tr>\n",
       "  </thead>\n",
       "  <tbody>\n",
       "    <tr>\n",
       "      <th>2002</th>\n",
       "      <td>46.75</td>\n",
       "      <td>61.50</td>\n",
       "      <td>62.75</td>\n",
       "      <td>36.25</td>\n",
       "      <td>35.25</td>\n",
       "      <td>52.00</td>\n",
       "      <td>66.25</td>\n",
       "      <td>44.50</td>\n",
       "      <td>48.00</td>\n",
       "      <td>52.75</td>\n",
       "      <td>...</td>\n",
       "      <td>42.25</td>\n",
       "      <td>55.00</td>\n",
       "      <td>50.00</td>\n",
       "      <td>47.75</td>\n",
       "      <td>55.50</td>\n",
       "      <td>54.25</td>\n",
       "      <td>60.75</td>\n",
       "      <td>71.25</td>\n",
       "      <td>33.00</td>\n",
       "      <td>68.00</td>\n",
       "    </tr>\n",
       "    <tr>\n",
       "      <th>2003</th>\n",
       "      <td>73.00</td>\n",
       "      <td>65.25</td>\n",
       "      <td>51.75</td>\n",
       "      <td>48.50</td>\n",
       "      <td>48.25</td>\n",
       "      <td>45.75</td>\n",
       "      <td>48.00</td>\n",
       "      <td>47.50</td>\n",
       "      <td>66.25</td>\n",
       "      <td>37.00</td>\n",
       "      <td>...</td>\n",
       "      <td>51.75</td>\n",
       "      <td>62.00</td>\n",
       "      <td>45.00</td>\n",
       "      <td>56.50</td>\n",
       "      <td>34.25</td>\n",
       "      <td>35.75</td>\n",
       "      <td>44.50</td>\n",
       "      <td>61.50</td>\n",
       "      <td>50.25</td>\n",
       "      <td>47.75</td>\n",
       "    </tr>\n",
       "    <tr>\n",
       "      <th>2004</th>\n",
       "      <td>55.00</td>\n",
       "      <td>55.75</td>\n",
       "      <td>68.00</td>\n",
       "      <td>53.75</td>\n",
       "      <td>50.25</td>\n",
       "      <td>57.00</td>\n",
       "      <td>29.50</td>\n",
       "      <td>57.50</td>\n",
       "      <td>59.50</td>\n",
       "      <td>30.75</td>\n",
       "      <td>...</td>\n",
       "      <td>53.50</td>\n",
       "      <td>56.50</td>\n",
       "      <td>44.75</td>\n",
       "      <td>48.25</td>\n",
       "      <td>47.75</td>\n",
       "      <td>51.25</td>\n",
       "      <td>30.25</td>\n",
       "      <td>72.75</td>\n",
       "      <td>62.75</td>\n",
       "      <td>51.50</td>\n",
       "    </tr>\n",
       "    <tr>\n",
       "      <th>2005</th>\n",
       "      <td>46.25</td>\n",
       "      <td>34.25</td>\n",
       "      <td>66.00</td>\n",
       "      <td>37.75</td>\n",
       "      <td>47.50</td>\n",
       "      <td>36.25</td>\n",
       "      <td>39.50</td>\n",
       "      <td>59.25</td>\n",
       "      <td>58.75</td>\n",
       "      <td>53.25</td>\n",
       "      <td>...</td>\n",
       "      <td>47.00</td>\n",
       "      <td>56.50</td>\n",
       "      <td>65.00</td>\n",
       "      <td>57.25</td>\n",
       "      <td>53.25</td>\n",
       "      <td>50.00</td>\n",
       "      <td>39.00</td>\n",
       "      <td>49.00</td>\n",
       "      <td>53.75</td>\n",
       "      <td>67.00</td>\n",
       "    </tr>\n",
       "    <tr>\n",
       "      <th>2006</th>\n",
       "      <td>47.75</td>\n",
       "      <td>46.50</td>\n",
       "      <td>38.50</td>\n",
       "      <td>57.25</td>\n",
       "      <td>46.50</td>\n",
       "      <td>51.50</td>\n",
       "      <td>69.50</td>\n",
       "      <td>45.50</td>\n",
       "      <td>43.25</td>\n",
       "      <td>54.25</td>\n",
       "      <td>...</td>\n",
       "      <td>49.75</td>\n",
       "      <td>47.25</td>\n",
       "      <td>53.50</td>\n",
       "      <td>58.25</td>\n",
       "      <td>51.50</td>\n",
       "      <td>60.75</td>\n",
       "      <td>30.00</td>\n",
       "      <td>50.00</td>\n",
       "      <td>53.00</td>\n",
       "      <td>43.75</td>\n",
       "    </tr>\n",
       "  </tbody>\n",
       "</table>\n",
       "<p>5 rows × 52 columns</p>\n",
       "</div>"
      ],
      "text/plain": [
       "          02 Albacete      03 Alicante/Alacant      04 Almería  \\\n",
       "2002            46.75                    61.50           62.75   \n",
       "2003            73.00                    65.25           51.75   \n",
       "2004            55.00                    55.75           68.00   \n",
       "2005            46.25                    34.25           66.00   \n",
       "2006            47.75                    46.50           38.50   \n",
       "\n",
       "          01 Araba/Álava      33 Asturias      05 Ávila      06 Badajoz  \\\n",
       "2002               36.25            35.25         52.00           66.25   \n",
       "2003               48.50            48.25         45.75           48.00   \n",
       "2004               53.75            50.25         57.00           29.50   \n",
       "2005               37.75            47.50         36.25           39.50   \n",
       "2006               57.25            46.50         51.50           69.50   \n",
       "\n",
       "          07 Balears Illes      08 Barcelona      48 Bizkaia  ...  \\\n",
       "2002                 44.50             48.00           52.75  ...   \n",
       "2003                 47.50             66.25           37.00  ...   \n",
       "2004                 57.50             59.50           30.75  ...   \n",
       "2005                 59.25             58.75           53.25  ...   \n",
       "2006                 45.50             43.25           54.25  ...   \n",
       "\n",
       "          42 Soria      43 Tarragona      44 Teruel      45 Toledo  \\\n",
       "2002         42.25             55.00          50.00          47.75   \n",
       "2003         51.75             62.00          45.00          56.50   \n",
       "2004         53.50             56.50          44.75          48.25   \n",
       "2005         47.00             56.50          65.00          57.25   \n",
       "2006         49.75             47.25          53.50          58.25   \n",
       "\n",
       "          46 Valencia/València      47 Valladolid      49 Zamora  \\\n",
       "2002                     55.50              54.25          60.75   \n",
       "2003                     34.25              35.75          44.50   \n",
       "2004                     47.75              51.25          30.25   \n",
       "2005                     53.25              50.00          39.00   \n",
       "2006                     51.50              60.75          30.00   \n",
       "\n",
       "          50 Zaragoza      51 Ceuta      52 Melilla  \n",
       "2002            71.25         33.00           68.00  \n",
       "2003            61.50         50.25           47.75  \n",
       "2004            72.75         62.75           51.50  \n",
       "2005            49.00         53.75           67.00  \n",
       "2006            50.00         53.00           43.75  \n",
       "\n",
       "[5 rows x 52 columns]"
      ]
     },
     "execution_count": 26,
     "metadata": {},
     "output_type": "execute_result"
    }
   ],
   "source": [
    "data.head()"
   ]
  },
  {
   "cell_type": "code",
   "execution_count": 27,
   "metadata": {},
   "outputs": [
    {
     "data": {
      "text/plain": [
       "<matplotlib.axes._subplots.AxesSubplot at 0x7fca297e4a90>"
      ]
     },
     "execution_count": 27,
     "metadata": {},
     "output_type": "execute_result"
    },
    {
     "data": {
      "image/png": "[encoded data removed]",
      "text/plain": [
       "<Figure size 432x288 with 1 Axes>"
      ]
     },
     "metadata": {},
     "output_type": "display_data"
    }
   ],
   "source": [
    "data.boxplot()"
   ]
  },
  {
   "cell_type": "code",
   "execution_count": 28,
   "metadata": {},
   "outputs": [],
   "source": [
    "data_mean = pd.DataFrame(data.mean())"
   ]
  },
  {
   "cell_type": "code",
   "execution_count": 29,
   "metadata": {},
   "outputs": [
    {
     "name": "stdout",
     "output_type": "stream",
     "text": [
      "city=     27 Lugo with min employed= 42.041666666666664\n"
     ]
    }
   ],
   "source": [
    "city_min = data_mean.idxmin().values[0]\n",
    "minimum = data_mean.min()[0]\n",
    "print('city=', city_min, 'with min employed=', minimum)"
   ]
  },
  {
   "cell_type": "code",
   "execution_count": 67,
   "metadata": {},
   "outputs": [
    {
     "name": "stdout",
     "output_type": "stream",
     "text": [
      "last 5 years: city=     24 León with min employed= 33.7\n"
     ]
    }
   ],
   "source": [
    "data_mean = pd.DataFrame(data.tail().mean())\n",
    "city_min = data_mean.idxmin().values[0]\n",
    "minimum = data_mean.min()[0]\n",
    "print('last 5 years: city=', city_min, 'with min employed=', minimum)"
   ]
  },
  {
   "cell_type": "markdown",
   "metadata": {},
   "source": [
    "### Representation of the average number of employees by province\n",
    "[Location of the cities of Spain](http://www.geomapik.com/desarrollo-programacion-gis/mapas-con-python-geopandas-matplotlib/)\n",
    "\n",
    "[Oceans](https://www.naturalearthdata.com/downloads/50m-physical-vectors/50m-ocean/)"
   ]
  },
  {
   "cell_type": "code",
   "execution_count": 5,
   "metadata": {},
   "outputs": [
    {
     "data": {
      "text/html": [
       "<div>\n",
       "<style scoped>\n",
       "    .dataframe tbody tr th:only-of-type {\n",
       "        vertical-align: middle;\n",
       "    }\n",
       "\n",
       "    .dataframe tbody tr th {\n",
       "        vertical-align: top;\n",
       "    }\n",
       "\n",
       "    .dataframe thead th {\n",
       "        text-align: right;\n",
       "    }\n",
       "</style>\n",
       "<table border=\"1\" class=\"dataframe\">\n",
       "  <thead>\n",
       "    <tr style=\"text-align: right;\">\n",
       "      <th></th>\n",
       "      <th>NAME_1</th>\n",
       "      <th>NAME_2</th>\n",
       "      <th>CC_2</th>\n",
       "      <th>NAT2018</th>\n",
       "      <th>geometry</th>\n",
       "    </tr>\n",
       "  </thead>\n",
       "  <tbody>\n",
       "    <tr>\n",
       "      <th>0</th>\n",
       "      <td>Andalucía</td>\n",
       "      <td>Almería</td>\n",
       "      <td>04</td>\n",
       "      <td>10.48</td>\n",
       "      <td>MULTIPOLYGON (((-3.03042 35.94236, -3.03042 35...</td>\n",
       "    </tr>\n",
       "    <tr>\n",
       "      <th>1</th>\n",
       "      <td>Andalucía</td>\n",
       "      <td>Cádiz</td>\n",
       "      <td>11</td>\n",
       "      <td>8.11</td>\n",
       "      <td>MULTIPOLYGON (((-6.21958 36.38110, -6.21958 36...</td>\n",
       "    </tr>\n",
       "    <tr>\n",
       "      <th>2</th>\n",
       "      <td>Andalucía</td>\n",
       "      <td>Córdoba</td>\n",
       "      <td>14</td>\n",
       "      <td>7.90</td>\n",
       "      <td>MULTIPOLYGON (((-5.04854 37.63690, -5.04667 37...</td>\n",
       "    </tr>\n",
       "    <tr>\n",
       "      <th>3</th>\n",
       "      <td>Andalucía</td>\n",
       "      <td>Granada</td>\n",
       "      <td>18</td>\n",
       "      <td>7.78</td>\n",
       "      <td>MULTIPOLYGON (((-3.35014 36.72952, -3.35014 36...</td>\n",
       "    </tr>\n",
       "    <tr>\n",
       "      <th>4</th>\n",
       "      <td>Andalucía</td>\n",
       "      <td>Huelva</td>\n",
       "      <td>21</td>\n",
       "      <td>7.57</td>\n",
       "      <td>MULTIPOLYGON (((-6.83648 37.11547, -6.83643 37...</td>\n",
       "    </tr>\n",
       "  </tbody>\n",
       "</table>\n",
       "</div>"
      ],
      "text/plain": [
       "      NAME_1   NAME_2 CC_2  NAT2018  \\\n",
       "0  Andalucía  Almería   04    10.48   \n",
       "1  Andalucía    Cádiz   11     8.11   \n",
       "2  Andalucía  Córdoba   14     7.90   \n",
       "3  Andalucía  Granada   18     7.78   \n",
       "4  Andalucía   Huelva   21     7.57   \n",
       "\n",
       "                                            geometry  \n",
       "0  MULTIPOLYGON (((-3.03042 35.94236, -3.03042 35...  \n",
       "1  MULTIPOLYGON (((-6.21958 36.38110, -6.21958 36...  \n",
       "2  MULTIPOLYGON (((-5.04854 37.63690, -5.04667 37...  \n",
       "3  MULTIPOLYGON (((-3.35014 36.72952, -3.35014 36...  \n",
       "4  MULTIPOLYGON (((-6.83648 37.11547, -6.83643 37...  "
      ]
     },
     "execution_count": 5,
     "metadata": {},
     "output_type": "execute_result"
    }
   ],
   "source": [
    "cities = \"data/cities_spain.geojson\"\n",
    "map_data = gpd.read_file(cities)\n",
    "map_data.head()"
   ]
  },
  {
   "cell_type": "code",
   "execution_count": 68,
   "metadata": {},
   "outputs": [],
   "source": [
    "data_mean = data_mean.T"
   ]
  },
  {
   "cell_type": "code",
   "execution_count": 69,
   "metadata": {},
   "outputs": [],
   "source": [
    "values = []\n",
    "for city in map_data['NAME_2'].values:\n",
    "    for index in data_mean.columns:\n",
    "        if index.split()[1] in city:\n",
    "            break\n",
    "    values.append(data_mean[index].values[0])"
   ]
  },
  {
   "cell_type": "code",
   "execution_count": 70,
   "metadata": {},
   "outputs": [],
   "source": [
    "map_data['EMPLOYED'] = values"
   ]
  },
  {
   "cell_type": "code",
   "execution_count": 84,
   "metadata": {},
   "outputs": [
    {
     "data": {
      "text/html": [
       "<div>\n",
       "<style scoped>\n",
       "    .dataframe tbody tr th:only-of-type {\n",
       "        vertical-align: middle;\n",
       "    }\n",
       "\n",
       "    .dataframe tbody tr th {\n",
       "        vertical-align: top;\n",
       "    }\n",
       "\n",
       "    .dataframe thead th {\n",
       "        text-align: right;\n",
       "    }\n",
       "</style>\n",
       "<table border=\"1\" class=\"dataframe\">\n",
       "  <thead>\n",
       "    <tr style=\"text-align: right;\">\n",
       "      <th></th>\n",
       "      <th>NAME_1</th>\n",
       "      <th>NAME_2</th>\n",
       "      <th>CC_2</th>\n",
       "      <th>NAT2018</th>\n",
       "      <th>geometry</th>\n",
       "      <th>EMPLOYED</th>\n",
       "      <th>EMPLOYED2019</th>\n",
       "    </tr>\n",
       "  </thead>\n",
       "  <tbody>\n",
       "    <tr>\n",
       "      <th>0</th>\n",
       "      <td>Andalucía</td>\n",
       "      <td>Almería</td>\n",
       "      <td>04</td>\n",
       "      <td>10.48</td>\n",
       "      <td>MULTIPOLYGON (((-3.03042 35.94236, -3.03042 35...</td>\n",
       "      <td>51.20</td>\n",
       "      <td>67.50</td>\n",
       "    </tr>\n",
       "    <tr>\n",
       "      <th>1</th>\n",
       "      <td>Andalucía</td>\n",
       "      <td>Cádiz</td>\n",
       "      <td>11</td>\n",
       "      <td>8.11</td>\n",
       "      <td>MULTIPOLYGON (((-6.21958 36.38110, -6.21958 36...</td>\n",
       "      <td>53.55</td>\n",
       "      <td>51.50</td>\n",
       "    </tr>\n",
       "    <tr>\n",
       "      <th>2</th>\n",
       "      <td>Andalucía</td>\n",
       "      <td>Córdoba</td>\n",
       "      <td>14</td>\n",
       "      <td>7.90</td>\n",
       "      <td>MULTIPOLYGON (((-5.04854 37.63690, -5.04667 37...</td>\n",
       "      <td>51.10</td>\n",
       "      <td>56.75</td>\n",
       "    </tr>\n",
       "    <tr>\n",
       "      <th>3</th>\n",
       "      <td>Andalucía</td>\n",
       "      <td>Granada</td>\n",
       "      <td>18</td>\n",
       "      <td>7.78</td>\n",
       "      <td>MULTIPOLYGON (((-3.35014 36.72952, -3.35014 36...</td>\n",
       "      <td>52.80</td>\n",
       "      <td>45.50</td>\n",
       "    </tr>\n",
       "    <tr>\n",
       "      <th>4</th>\n",
       "      <td>Andalucía</td>\n",
       "      <td>Huelva</td>\n",
       "      <td>21</td>\n",
       "      <td>7.57</td>\n",
       "      <td>MULTIPOLYGON (((-6.83648 37.11547, -6.83643 37...</td>\n",
       "      <td>47.90</td>\n",
       "      <td>46.00</td>\n",
       "    </tr>\n",
       "  </tbody>\n",
       "</table>\n",
       "</div>"
      ],
      "text/plain": [
       "      NAME_1   NAME_2 CC_2  NAT2018  \\\n",
       "0  Andalucía  Almería   04    10.48   \n",
       "1  Andalucía    Cádiz   11     8.11   \n",
       "2  Andalucía  Córdoba   14     7.90   \n",
       "3  Andalucía  Granada   18     7.78   \n",
       "4  Andalucía   Huelva   21     7.57   \n",
       "\n",
       "                                            geometry  EMPLOYED  EMPLOYED2019  \n",
       "0  MULTIPOLYGON (((-3.03042 35.94236, -3.03042 35...     51.20         67.50  \n",
       "1  MULTIPOLYGON (((-6.21958 36.38110, -6.21958 36...     53.55         51.50  \n",
       "2  MULTIPOLYGON (((-5.04854 37.63690, -5.04667 37...     51.10         56.75  \n",
       "3  MULTIPOLYGON (((-3.35014 36.72952, -3.35014 36...     52.80         45.50  \n",
       "4  MULTIPOLYGON (((-6.83648 37.11547, -6.83643 37...     47.90         46.00  "
      ]
     },
     "execution_count": 84,
     "metadata": {},
     "output_type": "execute_result"
    }
   ],
   "source": [
    "map_data.head()"
   ]
  },
  {
   "cell_type": "code",
   "execution_count": 74,
   "metadata": {
    "scrolled": true
   },
   "outputs": [
    {
     "data": {
      "text/plain": [
       "<matplotlib.axes._subplots.AxesSubplot at 0x7fca26c09390>"
      ]
     },
     "execution_count": 74,
     "metadata": {},
     "output_type": "execute_result"
    },
    {
     "data": {
      "image/png": "[encoded data removed]",
      "text/plain": [
       "<Figure size 720x720 with 2 Axes>"
      ]
     },
     "metadata": {},
     "output_type": "display_data"
    }
   ],
   "source": [
    "fig, ax = plt.subplots(1, 1, figsize=(10, 10)) \n",
    "ax.axis([-12, 5, 32, 48])\n",
    "ax.set_title('Employed in Spain, last 5 years', \n",
    "             pad = 20, \n",
    "             fontdict={'fontsize':20, 'color': '#4873ab'})\n",
    "ax.set_xlabel('Longitud')\n",
    "ax.set_ylabel('Latitud')\n",
    "\n",
    "from mpl_toolkits.axes_grid1 import make_axes_locatable\n",
    "divider = make_axes_locatable(ax)\n",
    "cax = divider.append_axes(\"right\", size=\"5%\", pad=0.2)\n",
    "\n",
    "map_data.plot(column='EMPLOYED', cmap='plasma', ax=ax, legend=True, cax=cax, zorder=5)\n",
    "\n",
    "oceans = \"data/ne_50m_ocean.shx\"\n",
    "map_oceans = gpd.read_file(oceans)\n",
    "map_oceans.plot(ax=ax, color='#89c0e8', zorder=0)"
   ]
  },
  {
   "cell_type": "markdown",
   "metadata": {},
   "source": [
    "As we have already seen, León is the city with the fewest employees in the last five years."
   ]
  },
  {
   "cell_type": "code",
   "execution_count": 76,
   "metadata": {},
   "outputs": [],
   "source": [
    "last_year = data.tail(1)"
   ]
  },
  {
   "cell_type": "code",
   "execution_count": 77,
   "metadata": {},
   "outputs": [],
   "source": [
    "values = []\n",
    "for city in map_data['NAME_2'].values:\n",
    "    for index in last_year.columns:\n",
    "        if index.split()[1] in city:\n",
    "            break\n",
    "    values.append(last_year[index].values[0])"
   ]
  },
  {
   "cell_type": "code",
   "execution_count": 78,
   "metadata": {},
   "outputs": [],
   "source": [
    "map_data['EMPLOYED2019'] = values"
   ]
  },
  {
   "cell_type": "code",
   "execution_count": 79,
   "metadata": {},
   "outputs": [
    {
     "data": {
      "text/plain": [
       "<matplotlib.axes._subplots.AxesSubplot at 0x7fca26980978>"
      ]
     },
     "execution_count": 79,
     "metadata": {},
     "output_type": "execute_result"
    },
    {
     "data": {
      "image/png": "[encoded data removed]",
      "text/plain": [
       "<Figure size 720x720 with 2 Axes>"
      ]
     },
     "metadata": {},
     "output_type": "display_data"
    }
   ],
   "source": [
    "fig, ax = plt.subplots(1, 1, figsize=(10, 10))\n",
    "ax.axis([-12, 5, 32, 48]) \n",
    "ax.set_title('Employed in Spain, 2019', \n",
    "             pad = 20, \n",
    "             fontdict={'fontsize':20, 'color': '#4873ab'})\n",
    "ax.set_xlabel('Longitud')\n",
    "ax.set_ylabel('Latitud')\n",
    "\n",
    "from mpl_toolkits.axes_grid1 import make_axes_locatable\n",
    "divider = make_axes_locatable(ax)\n",
    "cax = divider.append_axes(\"right\", size=\"5%\", pad=0.2)\n",
    "\n",
    "map_data.plot(column='EMPLOYED2019', cmap='plasma', ax=ax, zorder=5, legend=True, cax=cax)\n",
    "\n",
    "oceans = \"data/ne_50m_ocean.shx\"\n",
    "map_oceans = gpd.read_file(oceans)\n",
    "map_oceans.plot(ax=ax, color='#89c0e8', zorder=0)"
   ]
  },
  {
   "cell_type": "markdown",
   "metadata": {},
   "source": [
    "# Population density\n",
    "[Source](https://www.ine.es/jaxiT3/Datos.htm?t=2852#!tabs-tabla)"
   ]
  },
  {
   "cell_type": "code",
   "execution_count": 6,
   "metadata": {},
   "outputs": [
    {
     "data": {
      "text/html": [
       "<div>\n",
       "<style scoped>\n",
       "    .dataframe tbody tr th:only-of-type {\n",
       "        vertical-align: middle;\n",
       "    }\n",
       "\n",
       "    .dataframe tbody tr th {\n",
       "        vertical-align: top;\n",
       "    }\n",
       "\n",
       "    .dataframe thead th {\n",
       "        text-align: right;\n",
       "    }\n",
       "</style>\n",
       "<table border=\"1\" class=\"dataframe\">\n",
       "  <thead>\n",
       "    <tr style=\"text-align: right;\">\n",
       "      <th></th>\n",
       "      <th>Provincias</th>\n",
       "      <th>Sexo</th>\n",
       "      <th>Periodo</th>\n",
       "      <th>Total</th>\n",
       "    </tr>\n",
       "  </thead>\n",
       "  <tbody>\n",
       "    <tr>\n",
       "      <th>0</th>\n",
       "      <td>Total</td>\n",
       "      <td>Total</td>\n",
       "      <td>2019</td>\n",
       "      <td>47026208</td>\n",
       "    </tr>\n",
       "    <tr>\n",
       "      <th>1</th>\n",
       "      <td>Total</td>\n",
       "      <td>Total</td>\n",
       "      <td>2018</td>\n",
       "      <td>46722980</td>\n",
       "    </tr>\n",
       "    <tr>\n",
       "      <th>2</th>\n",
       "      <td>Total</td>\n",
       "      <td>Total</td>\n",
       "      <td>2017</td>\n",
       "      <td>46572132</td>\n",
       "    </tr>\n",
       "    <tr>\n",
       "      <th>3</th>\n",
       "      <td>Total</td>\n",
       "      <td>Total</td>\n",
       "      <td>2016</td>\n",
       "      <td>46557008</td>\n",
       "    </tr>\n",
       "    <tr>\n",
       "      <th>4</th>\n",
       "      <td>Total</td>\n",
       "      <td>Total</td>\n",
       "      <td>2015</td>\n",
       "      <td>46624382</td>\n",
       "    </tr>\n",
       "  </tbody>\n",
       "</table>\n",
       "</div>"
      ],
      "text/plain": [
       "  Provincias   Sexo  Periodo     Total\n",
       "0      Total  Total     2019  47026208\n",
       "1      Total  Total     2018  46722980\n",
       "2      Total  Total     2017  46572132\n",
       "3      Total  Total     2016  46557008\n",
       "4      Total  Total     2015  46624382"
      ]
     },
     "execution_count": 6,
     "metadata": {},
     "output_type": "execute_result"
    }
   ],
   "source": [
    "population = \"data/population.csv\"\n",
    "population = pd.read_csv(population, delimiter = ';', encoding='latin1')\n",
    "population['Total'] = population['Total'].apply(lambda x: int(x.replace('.', '')))\n",
    "population.head()"
   ]
  },
  {
   "cell_type": "code",
   "execution_count": 7,
   "metadata": {},
   "outputs": [
    {
     "name": "stdout",
     "output_type": "stream",
     "text": [
      "['Total' 'Hombres' 'Mujeres']\n"
     ]
    }
   ],
   "source": [
    "print(population['Sexo'].unique())\n",
    "total = population[population['Sexo'] == 'Total']\n",
    "men_population = population[population['Sexo'] == 'Hombres']\n",
    "women_population = population[population['Sexo'] == 'Mujeres']"
   ]
  },
  {
   "cell_type": "code",
   "execution_count": 8,
   "metadata": {},
   "outputs": [
    {
     "data": {
      "text/html": [
       "<div>\n",
       "<style scoped>\n",
       "    .dataframe tbody tr th:only-of-type {\n",
       "        vertical-align: middle;\n",
       "    }\n",
       "\n",
       "    .dataframe tbody tr th {\n",
       "        vertical-align: top;\n",
       "    }\n",
       "\n",
       "    .dataframe thead th {\n",
       "        text-align: right;\n",
       "    }\n",
       "</style>\n",
       "<table border=\"1\" class=\"dataframe\">\n",
       "  <thead>\n",
       "    <tr style=\"text-align: right;\">\n",
       "      <th></th>\n",
       "      <th>Provincias</th>\n",
       "      <th>Sexo</th>\n",
       "      <th>Periodo</th>\n",
       "      <th>Total</th>\n",
       "    </tr>\n",
       "  </thead>\n",
       "  <tbody>\n",
       "    <tr>\n",
       "      <th>18</th>\n",
       "      <td>Total</td>\n",
       "      <td>Hombres</td>\n",
       "      <td>2019</td>\n",
       "      <td>23042428</td>\n",
       "    </tr>\n",
       "    <tr>\n",
       "      <th>19</th>\n",
       "      <td>Total</td>\n",
       "      <td>Hombres</td>\n",
       "      <td>2018</td>\n",
       "      <td>22896602</td>\n",
       "    </tr>\n",
       "    <tr>\n",
       "      <th>20</th>\n",
       "      <td>Total</td>\n",
       "      <td>Hombres</td>\n",
       "      <td>2017</td>\n",
       "      <td>22832861</td>\n",
       "    </tr>\n",
       "    <tr>\n",
       "      <th>21</th>\n",
       "      <td>Total</td>\n",
       "      <td>Hombres</td>\n",
       "      <td>2016</td>\n",
       "      <td>22843610</td>\n",
       "    </tr>\n",
       "    <tr>\n",
       "      <th>22</th>\n",
       "      <td>Total</td>\n",
       "      <td>Hombres</td>\n",
       "      <td>2015</td>\n",
       "      <td>22890383</td>\n",
       "    </tr>\n",
       "    <tr>\n",
       "      <th>...</th>\n",
       "      <td>...</td>\n",
       "      <td>...</td>\n",
       "      <td>...</td>\n",
       "      <td>...</td>\n",
       "    </tr>\n",
       "    <tr>\n",
       "      <th>2826</th>\n",
       "      <td>52 Melilla</td>\n",
       "      <td>Hombres</td>\n",
       "      <td>2019</td>\n",
       "      <td>43894</td>\n",
       "    </tr>\n",
       "    <tr>\n",
       "      <th>2827</th>\n",
       "      <td>52 Melilla</td>\n",
       "      <td>Hombres</td>\n",
       "      <td>2018</td>\n",
       "      <td>43765</td>\n",
       "    </tr>\n",
       "    <tr>\n",
       "      <th>2828</th>\n",
       "      <td>52 Melilla</td>\n",
       "      <td>Hombres</td>\n",
       "      <td>2017</td>\n",
       "      <td>43629</td>\n",
       "    </tr>\n",
       "    <tr>\n",
       "      <th>2829</th>\n",
       "      <td>52 Melilla</td>\n",
       "      <td>Hombres</td>\n",
       "      <td>2016</td>\n",
       "      <td>43768</td>\n",
       "    </tr>\n",
       "    <tr>\n",
       "      <th>2830</th>\n",
       "      <td>52 Melilla</td>\n",
       "      <td>Hombres</td>\n",
       "      <td>2015</td>\n",
       "      <td>43593</td>\n",
       "    </tr>\n",
       "  </tbody>\n",
       "</table>\n",
       "<p>265 rows × 4 columns</p>\n",
       "</div>"
      ],
      "text/plain": [
       "      Provincias     Sexo  Periodo     Total\n",
       "18         Total  Hombres     2019  23042428\n",
       "19         Total  Hombres     2018  22896602\n",
       "20         Total  Hombres     2017  22832861\n",
       "21         Total  Hombres     2016  22843610\n",
       "22         Total  Hombres     2015  22890383\n",
       "...          ...      ...      ...       ...\n",
       "2826  52 Melilla  Hombres     2019     43894\n",
       "2827  52 Melilla  Hombres     2018     43765\n",
       "2828  52 Melilla  Hombres     2017     43629\n",
       "2829  52 Melilla  Hombres     2016     43768\n",
       "2830  52 Melilla  Hombres     2015     43593\n",
       "\n",
       "[265 rows x 4 columns]"
      ]
     },
     "execution_count": 8,
     "metadata": {},
     "output_type": "execute_result"
    }
   ],
   "source": [
    "men_population[men_population['Periodo'].isin([2019, 2018, 2017, 2016, 2015])]"
   ]
  },
  {
   "cell_type": "code",
   "execution_count": 9,
   "metadata": {},
   "outputs": [],
   "source": [
    "last_year = total[total['Periodo'].isin([2019])]\n",
    "last_year = last_year[last_year['Provincias'] != 'Total']\n",
    "last_year = last_year.set_index('Provincias')\n",
    "last_year = pd.DataFrame(last_year['Total'])\n",
    "last_year = last_year.T"
   ]
  },
  {
   "cell_type": "code",
   "execution_count": 10,
   "metadata": {},
   "outputs": [],
   "source": [
    "values = []\n",
    "for city in map_data['NAME_2'].values:\n",
    "    for index in last_year.columns:\n",
    "        if index.split()[1] in city:\n",
    "            break\n",
    "    values.append(last_year[index].values[0])"
   ]
  },
  {
   "cell_type": "code",
   "execution_count": 11,
   "metadata": {},
   "outputs": [],
   "source": [
    "map_data['POPULATION2019'] = [(x-min(values))/(max(values)-min(values)) for x in values]"
   ]
  },
  {
   "cell_type": "code",
   "execution_count": 12,
   "metadata": {},
   "outputs": [
    {
     "data": {
      "text/plain": [
       "<matplotlib.axes._subplots.AxesSubplot at 0x7f28f5547ba8>"
      ]
     },
     "execution_count": 12,
     "metadata": {},
     "output_type": "execute_result"
    },
    {
     "data": {
      "image/png": "[encoded data removed]",
      "text/plain": [
       "<Figure size 720x720 with 2 Axes>"
      ]
     },
     "metadata": {},
     "output_type": "display_data"
    }
   ],
   "source": [
    "fig, ax = plt.subplots(1, 1, figsize=(10, 10))\n",
    "ax.axis([-12, 5, 32, 48]) \n",
    "ax.set_title('Employed in Spain, 2019', \n",
    "             pad = 20, \n",
    "             fontdict={'fontsize':20, 'color': '#4873ab'})\n",
    "ax.set_xlabel('Longitud')\n",
    "ax.set_ylabel('Latitud')\n",
    "\n",
    "from mpl_toolkits.axes_grid1 import make_axes_locatable\n",
    "divider = make_axes_locatable(ax)\n",
    "cax = divider.append_axes(\"right\", size=\"5%\", pad=0.2)\n",
    "\n",
    "map_data.plot(column='POPULATION2019', cmap='plasma', ax=ax, zorder=5, legend=True, cax=cax)\n",
    "\n",
    "oceans = \"data/ne_50m_ocean.shx\"\n",
    "map_oceans = gpd.read_file(oceans)\n",
    "map_oceans.plot(ax=ax, color='#89c0e8', zorder=0)"
   ]
  }
 ],
 "metadata": {
  "kernelspec": {
   "display_name": "venv",
   "language": "python",
   "name": "venv"
  },
  "language_info": {
   "codemirror_mode": {
    "name": "ipython",
    "version": 3
   },
   "file_extension": ".py",
   "mimetype": "text/x-python",
   "name": "python",
   "nbconvert_exporter": "python",
   "pygments_lexer": "ipython3",
   "version": "3.6.9"
  }
 },
 "nbformat": 4,
 "nbformat_minor": 2
}
