{
 "cells": [
  {
   "cell_type": "markdown",
   "metadata": {},
   "source": [
    "# Population density\n",
    "[Source](https://www.ine.es/jaxiT3/Datos.htm?t=2852#!tabs-tabla)"
   ]
  },
  {
   "cell_type": "code",
   "execution_count": 2,
   "metadata": {},
   "outputs": [],
   "source": [
    "import matplotlib.pyplot as plt\n",
    "import os \n",
    "import pandas as pd\n",
    "import numpy as np"
   ]
  },
  {
   "cell_type": "code",
   "execution_count": 3,
   "metadata": {},
   "outputs": [],
   "source": [
    "import geopandas as gpd"
   ]
  },
  {
   "cell_type": "code",
   "execution_count": 9,
   "metadata": {},
   "outputs": [
    {
     "data": {
      "text/html": [
       "<div>\n",
       "<style scoped>\n",
       "    .dataframe tbody tr th:only-of-type {\n",
       "        vertical-align: middle;\n",
       "    }\n",
       "\n",
       "    .dataframe tbody tr th {\n",
       "        vertical-align: top;\n",
       "    }\n",
       "\n",
       "    .dataframe thead th {\n",
       "        text-align: right;\n",
       "    }\n",
       "</style>\n",
       "<table border=\"1\" class=\"dataframe\">\n",
       "  <thead>\n",
       "    <tr style=\"text-align: right;\">\n",
       "      <th></th>\n",
       "      <th>NAME_1</th>\n",
       "      <th>NAME_2</th>\n",
       "      <th>CC_2</th>\n",
       "      <th>NAT2018</th>\n",
       "      <th>geometry</th>\n",
       "    </tr>\n",
       "  </thead>\n",
       "  <tbody>\n",
       "    <tr>\n",
       "      <th>0</th>\n",
       "      <td>Andalucía</td>\n",
       "      <td>Almería</td>\n",
       "      <td>04</td>\n",
       "      <td>10.48</td>\n",
       "      <td>MULTIPOLYGON (((-3.03042 35.94236, -3.03042 35...</td>\n",
       "    </tr>\n",
       "    <tr>\n",
       "      <th>1</th>\n",
       "      <td>Andalucía</td>\n",
       "      <td>Cádiz</td>\n",
       "      <td>11</td>\n",
       "      <td>8.11</td>\n",
       "      <td>MULTIPOLYGON (((-6.21958 36.38110, -6.21958 36...</td>\n",
       "    </tr>\n",
       "    <tr>\n",
       "      <th>2</th>\n",
       "      <td>Andalucía</td>\n",
       "      <td>Córdoba</td>\n",
       "      <td>14</td>\n",
       "      <td>7.90</td>\n",
       "      <td>MULTIPOLYGON (((-5.04854 37.63690, -5.04667 37...</td>\n",
       "    </tr>\n",
       "    <tr>\n",
       "      <th>3</th>\n",
       "      <td>Andalucía</td>\n",
       "      <td>Granada</td>\n",
       "      <td>18</td>\n",
       "      <td>7.78</td>\n",
       "      <td>MULTIPOLYGON (((-3.35014 36.72952, -3.35014 36...</td>\n",
       "    </tr>\n",
       "    <tr>\n",
       "      <th>4</th>\n",
       "      <td>Andalucía</td>\n",
       "      <td>Huelva</td>\n",
       "      <td>21</td>\n",
       "      <td>7.57</td>\n",
       "      <td>MULTIPOLYGON (((-6.83648 37.11547, -6.83643 37...</td>\n",
       "    </tr>\n",
       "  </tbody>\n",
       "</table>\n",
       "</div>"
      ],
      "text/plain": [
       "      NAME_1   NAME_2 CC_2  NAT2018  \\\n",
       "0  Andalucía  Almería   04    10.48   \n",
       "1  Andalucía    Cádiz   11     8.11   \n",
       "2  Andalucía  Córdoba   14     7.90   \n",
       "3  Andalucía  Granada   18     7.78   \n",
       "4  Andalucía   Huelva   21     7.57   \n",
       "\n",
       "                                            geometry  \n",
       "0  MULTIPOLYGON (((-3.03042 35.94236, -3.03042 35...  \n",
       "1  MULTIPOLYGON (((-6.21958 36.38110, -6.21958 36...  \n",
       "2  MULTIPOLYGON (((-5.04854 37.63690, -5.04667 37...  \n",
       "3  MULTIPOLYGON (((-3.35014 36.72952, -3.35014 36...  \n",
       "4  MULTIPOLYGON (((-6.83648 37.11547, -6.83643 37...  "
      ]
     },
     "execution_count": 9,
     "metadata": {},
     "output_type": "execute_result"
    }
   ],
   "source": [
    "cities = \"data/cities_spain.geojson\"\n",
    "map_data = gpd.read_file(cities)\n",
    "map_data.head()"
   ]
  },
  {
   "cell_type": "code",
   "execution_count": 4,
   "metadata": {},
   "outputs": [
    {
     "data": {
      "text/html": [
       "<div>\n",
       "<style scoped>\n",
       "    .dataframe tbody tr th:only-of-type {\n",
       "        vertical-align: middle;\n",
       "    }\n",
       "\n",
       "    .dataframe tbody tr th {\n",
       "        vertical-align: top;\n",
       "    }\n",
       "\n",
       "    .dataframe thead th {\n",
       "        text-align: right;\n",
       "    }\n",
       "</style>\n",
       "<table border=\"1\" class=\"dataframe\">\n",
       "  <thead>\n",
       "    <tr style=\"text-align: right;\">\n",
       "      <th></th>\n",
       "      <th>Provincias</th>\n",
       "      <th>Sexo</th>\n",
       "      <th>Periodo</th>\n",
       "      <th>Total</th>\n",
       "    </tr>\n",
       "  </thead>\n",
       "  <tbody>\n",
       "    <tr>\n",
       "      <th>0</th>\n",
       "      <td>Total</td>\n",
       "      <td>Total</td>\n",
       "      <td>2019</td>\n",
       "      <td>47026208</td>\n",
       "    </tr>\n",
       "    <tr>\n",
       "      <th>1</th>\n",
       "      <td>Total</td>\n",
       "      <td>Total</td>\n",
       "      <td>2018</td>\n",
       "      <td>46722980</td>\n",
       "    </tr>\n",
       "    <tr>\n",
       "      <th>2</th>\n",
       "      <td>Total</td>\n",
       "      <td>Total</td>\n",
       "      <td>2017</td>\n",
       "      <td>46572132</td>\n",
       "    </tr>\n",
       "    <tr>\n",
       "      <th>3</th>\n",
       "      <td>Total</td>\n",
       "      <td>Total</td>\n",
       "      <td>2016</td>\n",
       "      <td>46557008</td>\n",
       "    </tr>\n",
       "    <tr>\n",
       "      <th>4</th>\n",
       "      <td>Total</td>\n",
       "      <td>Total</td>\n",
       "      <td>2015</td>\n",
       "      <td>46624382</td>\n",
       "    </tr>\n",
       "  </tbody>\n",
       "</table>\n",
       "</div>"
      ],
      "text/plain": [
       "  Provincias   Sexo  Periodo     Total\n",
       "0      Total  Total     2019  47026208\n",
       "1      Total  Total     2018  46722980\n",
       "2      Total  Total     2017  46572132\n",
       "3      Total  Total     2016  46557008\n",
       "4      Total  Total     2015  46624382"
      ]
     },
     "execution_count": 4,
     "metadata": {},
     "output_type": "execute_result"
    }
   ],
   "source": [
    "population = \"data/population.csv\"\n",
    "population = pd.read_csv(population, delimiter = ';', encoding='latin1')\n",
    "population['Total'] = population['Total'].apply(lambda x: int(x.replace('.', '')))\n",
    "population.head()"
   ]
  },
  {
   "cell_type": "code",
   "execution_count": 5,
   "metadata": {},
   "outputs": [
    {
     "name": "stdout",
     "output_type": "stream",
     "text": [
      "['Total' 'Hombres' 'Mujeres']\n"
     ]
    }
   ],
   "source": [
    "print(population['Sexo'].unique())\n",
    "total = population[population['Sexo'] == 'Total']\n",
    "men_population = population[population['Sexo'] == 'Hombres']\n",
    "women_population = population[population['Sexo'] == 'Mujeres']"
   ]
  },
  {
   "cell_type": "code",
   "execution_count": 6,
   "metadata": {},
   "outputs": [
    {
     "data": {
      "text/html": [
       "<div>\n",
       "<style scoped>\n",
       "    .dataframe tbody tr th:only-of-type {\n",
       "        vertical-align: middle;\n",
       "    }\n",
       "\n",
       "    .dataframe tbody tr th {\n",
       "        vertical-align: top;\n",
       "    }\n",
       "\n",
       "    .dataframe thead th {\n",
       "        text-align: right;\n",
       "    }\n",
       "</style>\n",
       "<table border=\"1\" class=\"dataframe\">\n",
       "  <thead>\n",
       "    <tr style=\"text-align: right;\">\n",
       "      <th></th>\n",
       "      <th>Provincias</th>\n",
       "      <th>Sexo</th>\n",
       "      <th>Periodo</th>\n",
       "      <th>Total</th>\n",
       "    </tr>\n",
       "  </thead>\n",
       "  <tbody>\n",
       "    <tr>\n",
       "      <th>18</th>\n",
       "      <td>Total</td>\n",
       "      <td>Hombres</td>\n",
       "      <td>2019</td>\n",
       "      <td>23042428</td>\n",
       "    </tr>\n",
       "    <tr>\n",
       "      <th>19</th>\n",
       "      <td>Total</td>\n",
       "      <td>Hombres</td>\n",
       "      <td>2018</td>\n",
       "      <td>22896602</td>\n",
       "    </tr>\n",
       "    <tr>\n",
       "      <th>20</th>\n",
       "      <td>Total</td>\n",
       "      <td>Hombres</td>\n",
       "      <td>2017</td>\n",
       "      <td>22832861</td>\n",
       "    </tr>\n",
       "    <tr>\n",
       "      <th>21</th>\n",
       "      <td>Total</td>\n",
       "      <td>Hombres</td>\n",
       "      <td>2016</td>\n",
       "      <td>22843610</td>\n",
       "    </tr>\n",
       "    <tr>\n",
       "      <th>22</th>\n",
       "      <td>Total</td>\n",
       "      <td>Hombres</td>\n",
       "      <td>2015</td>\n",
       "      <td>22890383</td>\n",
       "    </tr>\n",
       "    <tr>\n",
       "      <th>...</th>\n",
       "      <td>...</td>\n",
       "      <td>...</td>\n",
       "      <td>...</td>\n",
       "      <td>...</td>\n",
       "    </tr>\n",
       "    <tr>\n",
       "      <th>2826</th>\n",
       "      <td>52 Melilla</td>\n",
       "      <td>Hombres</td>\n",
       "      <td>2019</td>\n",
       "      <td>43894</td>\n",
       "    </tr>\n",
       "    <tr>\n",
       "      <th>2827</th>\n",
       "      <td>52 Melilla</td>\n",
       "      <td>Hombres</td>\n",
       "      <td>2018</td>\n",
       "      <td>43765</td>\n",
       "    </tr>\n",
       "    <tr>\n",
       "      <th>2828</th>\n",
       "      <td>52 Melilla</td>\n",
       "      <td>Hombres</td>\n",
       "      <td>2017</td>\n",
       "      <td>43629</td>\n",
       "    </tr>\n",
       "    <tr>\n",
       "      <th>2829</th>\n",
       "      <td>52 Melilla</td>\n",
       "      <td>Hombres</td>\n",
       "      <td>2016</td>\n",
       "      <td>43768</td>\n",
       "    </tr>\n",
       "    <tr>\n",
       "      <th>2830</th>\n",
       "      <td>52 Melilla</td>\n",
       "      <td>Hombres</td>\n",
       "      <td>2015</td>\n",
       "      <td>43593</td>\n",
       "    </tr>\n",
       "  </tbody>\n",
       "</table>\n",
       "<p>265 rows × 4 columns</p>\n",
       "</div>"
      ],
      "text/plain": [
       "      Provincias     Sexo  Periodo     Total\n",
       "18         Total  Hombres     2019  23042428\n",
       "19         Total  Hombres     2018  22896602\n",
       "20         Total  Hombres     2017  22832861\n",
       "21         Total  Hombres     2016  22843610\n",
       "22         Total  Hombres     2015  22890383\n",
       "...          ...      ...      ...       ...\n",
       "2826  52 Melilla  Hombres     2019     43894\n",
       "2827  52 Melilla  Hombres     2018     43765\n",
       "2828  52 Melilla  Hombres     2017     43629\n",
       "2829  52 Melilla  Hombres     2016     43768\n",
       "2830  52 Melilla  Hombres     2015     43593\n",
       "\n",
       "[265 rows x 4 columns]"
      ]
     },
     "execution_count": 6,
     "metadata": {},
     "output_type": "execute_result"
    }
   ],
   "source": [
    "men_population[men_population['Periodo'].isin([2019, 2018, 2017, 2016, 2015])]"
   ]
  },
  {
   "cell_type": "code",
   "execution_count": 7,
   "metadata": {},
   "outputs": [],
   "source": [
    "last_year = total[total['Periodo'].isin([2019])]\n",
    "last_year = last_year[last_year['Provincias'] != 'Total']\n",
    "last_year = last_year.set_index('Provincias')\n",
    "last_year = pd.DataFrame(last_year['Total'])\n",
    "last_year = last_year.T"
   ]
  },
  {
   "cell_type": "code",
   "execution_count": 10,
   "metadata": {},
   "outputs": [],
   "source": [
    "values = []\n",
    "for city in map_data['NAME_2'].values:\n",
    "    for index in last_year.columns:\n",
    "        if index.split()[1] in city:\n",
    "            break\n",
    "    values.append(last_year[index].values[0])"
   ]
  },
  {
   "cell_type": "code",
   "execution_count": 11,
   "metadata": {},
   "outputs": [],
   "source": [
    "map_data['POPULATION2019'] = [(x-min(values))/(max(values)-min(values)) for x in values]"
   ]
  },
  {
   "cell_type": "code",
   "execution_count": 12,
   "metadata": {},
   "outputs": [
    {
     "data": {
      "text/html": [
       "<div>\n",
       "<style scoped>\n",
       "    .dataframe tbody tr th:only-of-type {\n",
       "        vertical-align: middle;\n",
       "    }\n",
       "\n",
       "    .dataframe tbody tr th {\n",
       "        vertical-align: top;\n",
       "    }\n",
       "\n",
       "    .dataframe thead th {\n",
       "        text-align: right;\n",
       "    }\n",
       "</style>\n",
       "<table border=\"1\" class=\"dataframe\">\n",
       "  <thead>\n",
       "    <tr style=\"text-align: right;\">\n",
       "      <th></th>\n",
       "      <th>NAME_1</th>\n",
       "      <th>NAME_2</th>\n",
       "      <th>CC_2</th>\n",
       "      <th>NAT2018</th>\n",
       "      <th>geometry</th>\n",
       "      <th>POPULATION2019</th>\n",
       "    </tr>\n",
       "  </thead>\n",
       "  <tbody>\n",
       "    <tr>\n",
       "      <th>0</th>\n",
       "      <td>Andalucía</td>\n",
       "      <td>Almería</td>\n",
       "      <td>04</td>\n",
       "      <td>10.48</td>\n",
       "      <td>MULTIPOLYGON (((-3.03042 35.94236, -3.03042 35...</td>\n",
       "      <td>0.095840</td>\n",
       "    </tr>\n",
       "    <tr>\n",
       "      <th>1</th>\n",
       "      <td>Andalucía</td>\n",
       "      <td>Cádiz</td>\n",
       "      <td>11</td>\n",
       "      <td>8.11</td>\n",
       "      <td>MULTIPOLYGON (((-6.21958 36.38110, -6.21958 36...</td>\n",
       "      <td>0.175412</td>\n",
       "    </tr>\n",
       "    <tr>\n",
       "      <th>2</th>\n",
       "      <td>Andalucía</td>\n",
       "      <td>Córdoba</td>\n",
       "      <td>14</td>\n",
       "      <td>7.90</td>\n",
       "      <td>MULTIPOLYGON (((-5.04854 37.63690, -5.04667 37...</td>\n",
       "      <td>0.105900</td>\n",
       "    </tr>\n",
       "    <tr>\n",
       "      <th>3</th>\n",
       "      <td>Andalucía</td>\n",
       "      <td>Granada</td>\n",
       "      <td>18</td>\n",
       "      <td>7.78</td>\n",
       "      <td>MULTIPOLYGON (((-3.35014 36.72952, -3.35014 36...</td>\n",
       "      <td>0.125924</td>\n",
       "    </tr>\n",
       "    <tr>\n",
       "      <th>4</th>\n",
       "      <td>Andalucía</td>\n",
       "      <td>Huelva</td>\n",
       "      <td>21</td>\n",
       "      <td>7.57</td>\n",
       "      <td>MULTIPOLYGON (((-6.83648 37.11547, -6.83643 37...</td>\n",
       "      <td>0.066199</td>\n",
       "    </tr>\n",
       "  </tbody>\n",
       "</table>\n",
       "</div>"
      ],
      "text/plain": [
       "      NAME_1   NAME_2 CC_2  NAT2018  \\\n",
       "0  Andalucía  Almería   04    10.48   \n",
       "1  Andalucía    Cádiz   11     8.11   \n",
       "2  Andalucía  Córdoba   14     7.90   \n",
       "3  Andalucía  Granada   18     7.78   \n",
       "4  Andalucía   Huelva   21     7.57   \n",
       "\n",
       "                                            geometry  POPULATION2019  \n",
       "0  MULTIPOLYGON (((-3.03042 35.94236, -3.03042 35...        0.095840  \n",
       "1  MULTIPOLYGON (((-6.21958 36.38110, -6.21958 36...        0.175412  \n",
       "2  MULTIPOLYGON (((-5.04854 37.63690, -5.04667 37...        0.105900  \n",
       "3  MULTIPOLYGON (((-3.35014 36.72952, -3.35014 36...        0.125924  \n",
       "4  MULTIPOLYGON (((-6.83648 37.11547, -6.83643 37...        0.066199  "
      ]
     },
     "execution_count": 12,
     "metadata": {},
     "output_type": "execute_result"
    }
   ],
   "source": [
    "map_data.head()"
   ]
  },
  {
   "cell_type": "code",
   "execution_count": 13,
   "metadata": {},
   "outputs": [
    {
     "data": {
      "text/plain": [
       "<matplotlib.axes._subplots.AxesSubplot at 0x7f399c858080>"
      ]
     },
     "execution_count": 13,
     "metadata": {},
     "output_type": "execute_result"
    },
    {
     "data": {
      "image/png": "[encoded data removed]",
      "text/plain": [
       "<Figure size 720x720 with 2 Axes>"
      ]
     },
     "metadata": {},
     "output_type": "display_data"
    }
   ],
   "source": [
    "fig, ax = plt.subplots(1, 1, figsize=(10, 10))\n",
    "ax.axis([-12, 5, 32, 48]) \n",
    "ax.set_title('Employed in Spain, 2019', \n",
    "             pad = 20, \n",
    "             fontdict={'fontsize':20, 'color': '#4873ab'})\n",
    "ax.set_xlabel('Longitud')\n",
    "ax.set_ylabel('Latitud')\n",
    "\n",
    "from mpl_toolkits.axes_grid1 import make_axes_locatable\n",
    "divider = make_axes_locatable(ax)\n",
    "cax = divider.append_axes(\"right\", size=\"5%\", pad=0.2)\n",
    "\n",
    "map_data.plot(column='POPULATION2019', cmap='plasma', ax=ax, zorder=5, legend=True, cax=cax)\n",
    "\n",
    "oceans = \"data/ne_50m_ocean.shx\"\n",
    "map_oceans = gpd.read_file(oceans)\n",
    "map_oceans.plot(ax=ax, color='#89c0e8', zorder=0)"
   ]
  }
 ],
 "metadata": {
  "kernelspec": {
   "display_name": "venv",
   "language": "python",
   "name": "venv"
  },
  "language_info": {
   "codemirror_mode": {
    "name": "ipython",
    "version": 3
   },
   "file_extension": ".py",
   "mimetype": "text/x-python",
   "name": "python",
   "nbconvert_exporter": "python",
   "pygments_lexer": "ipython3",
   "version": "3.6.9"
  }
 },
 "nbformat": 4,
 "nbformat_minor": 2
}
